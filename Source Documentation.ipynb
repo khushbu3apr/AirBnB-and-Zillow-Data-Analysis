{
 "cells": [
  {
   "cell_type": "markdown",
   "metadata": {},
   "source": [
    "<font size=\"6\"><h3 align=\"center\">Documentation of Metadata and Data Quality</h3></font>"
   ]
  },
  {
   "cell_type": "markdown",
   "metadata": {},
   "source": [
    "## Problem Statement:"
   ]
  },
  {
   "cell_type": "markdown",
   "metadata": {},
   "source": [
    "We are asked to consult for a real estate company that has a niche in purchasing properties to rent out short-term as part of their business model specifically within New York City. The real estate company has already concluded that two bedroom properties are the most profitable; however, they do not know which zip codes are the best to invest in."
   ]
  },
  {
   "cell_type": "markdown",
   "metadata": {},
   "source": [
    "## Goal:"
   ]
  },
  {
   "cell_type": "markdown",
   "metadata": {},
   "source": [
    "To build out a data product and provide our conclusions to help real estate company understand which zip codes would generate\n",
    "the most profit on short term rentals within New York City."
   ]
  },
  {
   "cell_type": "markdown",
   "metadata": {},
   "source": [
    "## Datasets:"
   ]
  },
  {
   "cell_type": "markdown",
   "metadata": {},
   "source": [
    "We looked at two publicly available datasets, both are in CSV format:\n",
    "1. Cost Data (Zillow Data) - It provides an estimate of value for two-bedroom properties. This data was included in the email from Capital One recruiting.\n",
    "\n",
    "2. Revenue Data (AirBnB Data) - This data provides the attributes of each room/apartment present for renting. AirBnB acts as the medium through which the investor plans to lease out their investment property. This data was downloaded from the link: http://data.insideairbnb.com/united-states/ny/new-york-city/2019-07-08/data/listings.csv.gz"
   ]
  },
  {
   "cell_type": "markdown",
   "metadata": {},
   "source": [
    "## Assumptions Provided:"
   ]
  },
  {
   "cell_type": "markdown",
   "metadata": {},
   "source": [
    "1. The investor will pay for the property in cash (i.e. no mortgage/interest rate will need to be accounted for).\n",
    "2. The time value of money discount rate is 0% (i.e. $1 today is worth the same 100 years from now).\n",
    "3. All properties and all square feet within each locale can be assumed to be homogeneous (i.e. a 1000 square foot property in a locale such as Bronx or Manhattan generates twice the revenue and costs twice as much as any other 500 square foot property within that same locale.)\n",
    "4. Occupancy rate can be assumed at 75% or we can come up with owr own model to calculate occupancy. "
   ]
  },
  {
   "cell_type": "markdown",
   "metadata": {},
   "source": [
    "## Packages Used:"
   ]
  },
  {
   "cell_type": "markdown",
   "metadata": {},
   "source": [
    "1. Pandas\n",
    "\n",
    "\n",
    "2. Numpy\n",
    "\n",
    "\n",
    "3. Geocoder\n",
    "\n",
    "\n",
    "4. Geopy\n",
    "\n",
    "\n",
    "5. Matplotlib\n",
    "\n",
    "\n",
    "6. Seaborn"
   ]
  },
  {
   "cell_type": "markdown",
   "metadata": {},
   "source": [
    "## Data Quality Check and Data Munging"
   ]
  },
  {
   "cell_type": "markdown",
   "metadata": {},
   "source": [
    "### Revenue Data (AirBnB Data ):"
   ]
  },
  {
   "cell_type": "markdown",
   "metadata": {},
   "source": [
    "We make the following functions for checking NA values and Unique values in the variables from AirBnB data."
   ]
  },
  {
   "cell_type": "markdown",
   "metadata": {},
   "source": [
    "##### na_values: \n",
    "This function is used to check NA/Missing values in the variables of AirBnB data"
   ]
  },
  {
   "cell_type": "markdown",
   "metadata": {},
   "source": [
    "##### unique_values:\n",
    "This function is used to check unique values in the variables of AirBnB data"
   ]
  },
  {
   "cell_type": "markdown",
   "metadata": {},
   "source": [
    "##### number_of_unique:\n",
    "This function to used to check number of unique values in the variables of AirBnB data"
   ]
  },
  {
   "cell_type": "markdown",
   "metadata": {},
   "source": [
    "Now according to the real estate company, they are interested in the properties that are located in New York and are having\n",
    "two bedrooms. On looking upon different variables present in the AirBnB data, State and Bedrooms are the two best variables to proceed with. So we filter our data further as per State and Bedrooms. "
   ]
  },
  {
   "cell_type": "markdown",
   "metadata": {},
   "source": [
    "New York was present in the state variable under five different names, so we created a list named ny to filter out all the different names of New York. No missing value was present in the filtered data. "
   ]
  },
  {
   "cell_type": "markdown",
   "metadata": {},
   "source": [
    "Our main goal is to find out zipcodes which are more profitable to invest in. So now we looked upon some other variables from AirBnB dataset which can give us more information about zipcodes and neighbourhood information which can be profitable."
   ]
  },
  {
   "cell_type": "markdown",
   "metadata": {},
   "source": [
    "There were four different variables which can give information about neighbourhoood. They are: host_neighbourhood, neighbourhood, neighbourhood_cleansed and neighbourhood_group_cleansed. Looking upon the data provided, we can neglect variables like host_neighbourhood and neighbourhood as other two variables provide better information about neighbourhood if compared."
   ]
  },
  {
   "cell_type": "markdown",
   "metadata": {},
   "source": [
    "##### neighbourhood_cleansed variable:\n",
    "Upon checking for missing values in this variable, it did not have any missing values. There are 181 unique values. The description of this variable is given as it has verified neighbourhood names which is better than neighbourhood variable."
   ]
  },
  {
   "cell_type": "markdown",
   "metadata": {},
   "source": [
    "##### neighbourhood_group_cleansed variable:\n",
    "Upon checking for the missing values in this variable, it did not have any missing values. There are 5 unique values and all of them were the boroughs in NYC. Therefore, we do not need any further subsetting of the data for NYC."
   ]
  },
  {
   "cell_type": "markdown",
   "metadata": {},
   "source": [
    "We do not need smart_location variable for the analysis as it only gives information about state and city, that we have already filtered for New York. We can neglect this variable as it has ambiguity in names, punctuation and abbrevation which indicates the bad data quality of the variable. "
   ]
  },
  {
   "cell_type": "markdown",
   "metadata": {},
   "source": [
    "##### zipcode variable:\n",
    "Upon checking for missing values in this variable, it had 50 missing values. There are 314 unique value. This is the most important variable for us as per our goal. \n",
    "Further we filtered out the zipcodes with 5 digits and discarded the remaining zipcodes, as it can be called as a garbage value. "
   ]
  },
  {
   "cell_type": "markdown",
   "metadata": {},
   "source": [
    "Now we looked at the other variables in AirBnB data to fill the missing values of zipcodes. Latitude and longitude are the best variables to fill up the missing zipcodes. We checked for the missing values in latitude and longitude. Since, there were no missing values in both the variable we can proceed further with these two to find the missing zipcodes. "
   ]
  },
  {
   "cell_type": "markdown",
   "metadata": {},
   "source": [
    "We used geocoder to get all the missing values of zipcodes with the help of latitude and longitude and replaced all the NA values with it. Now we have 170 unique values of zipcodes. "
   ]
  },
  {
   "cell_type": "markdown",
   "metadata": {},
   "source": [
    "##### price variable:\n",
    "This variable tells us the price per night for each property. Therefore, it is very important to calculate the revenue obtained from each property that gives insights about the profitability. \n",
    "Upon checking the values, it had a special character '$' and some of them had ','. To calculate the revenue, these special characters were removed and the datatype was converted to float."
   ]
  },
  {
   "cell_type": "markdown",
   "metadata": {},
   "source": [
    "### Cost Data (Zillow Data):"
   ]
  },
  {
   "cell_type": "markdown",
   "metadata": {},
   "source": [
    "We checked the missing values for variables City and RegionName from the Zillow Data as these were the two important variables for the further analysis. We found out that there were no missing values in both the variables. Then we filtered New York city from the city variable, as we are interested to perform our analysis for New York. "
   ]
  },
  {
   "cell_type": "markdown",
   "metadata": {},
   "source": [
    "We checked that zipcodes are having only 5 digits and not more than that as we did in the AirBnB data to make sure that we do not have any garbage value. "
   ]
  },
  {
   "cell_type": "markdown",
   "metadata": {},
   "source": [
    "#### CountyName variable:\n",
    "These are th administrative names of the respective counties. We observed that CountyName variable in Zillow data is same as neighbourhood_group_cleansed variable in AirBnB data. Therefore, we convert countynames of boroughs to neighbourhood groups like AirBnB data. \n",
    "\n",
    "1.New York - Manhattan\n",
    "   \n",
    "2.Kings - Brooklyn\n",
    "   \n",
    "3.Richmond - Staten Island\n",
    "\n",
    "Queens is same in the AirBnB data therefore, no need to change it."
   ]
  },
  {
   "cell_type": "markdown",
   "metadata": {},
   "source": [
    "Now both the datasets have zipcodes in them which is the most important variable in our analysis. Upon exploring both the datasets we found out that AirBnB data has 170 unique values and Zillow data has 25 unique values."
   ]
  },
  {
   "cell_type": "markdown",
   "metadata": {},
   "source": [
    "We also noticed that Bronx is not present in zillow data. Therefore, we removed it from AirBnB data as well. Now we have 148 unique zipcodes in AirBnB data."
   ]
  },
  {
   "cell_type": "markdown",
   "metadata": {},
   "source": [
    "As we are going through data munging steps, we also need to find some more useful variables from AirBnB data which can help us calculate revenue to fulfill our ultimate goal of finding profitable zipcodes. Some of the variables which can be helpful are: \n",
    "1. Bedrooms\n",
    "2. Price\n",
    "3. availability_365\n",
    "4. review_scores_rating\n",
    "5. review_scores_value"
   ]
  },
  {
   "cell_type": "markdown",
   "metadata": {},
   "source": [
    "We make the following functions to get basic statistical information about the above mentioned columns."
   ]
  },
  {
   "cell_type": "markdown",
   "metadata": {},
   "source": [
    "##### stats:\n",
    "This function gives summary statistics about the variable neighbourhood_group_cleansed(boroughs). We got the summary statistics for each neighbourhood group after extracting all the unique values from neighbourhood_group_cleansed. "
   ]
  },
  {
   "cell_type": "markdown",
   "metadata": {},
   "source": [
    "##### pivot_index:\n",
    "This function changes the indexing and group all neighbourhood groups together by pivoting the index."
   ]
  },
  {
   "cell_type": "markdown",
   "metadata": {},
   "source": [
    "#### We found out that:\n",
    "1. Availability varies over the year, so we need to take into account all the availability columns for calculating occupancy rate.\n",
    "2. Review scores rating had values between 20 and 100."
   ]
  },
  {
   "cell_type": "markdown",
   "metadata": {},
   "source": [
    "### Plotted the distribution of room type:\n",
    "\n",
    "![image](download.png)"
   ]
  },
  {
   "cell_type": "markdown",
   "metadata": {},
   "source": [
    "#### Key Findings:\n",
    "In the graph above,blue lines shows the Entire home/apt and orange line shows the private rooms. we can see that number of entire home/apt rented are way more than private room rented in that particular zipcode."
   ]
  },
  {
   "cell_type": "markdown",
   "metadata": {},
   "source": [
    "As we are only interested in two bedrooms, to narrow down our analysis we can neglect private room."
   ]
  },
  {
   "cell_type": "markdown",
   "metadata": {},
   "source": [
    "Now we need to set the common timeframe for our analysis, for which we need to match our dates in both the datasets. We chacked the AirBnB dataset and found that data was updated last in the month of September 2019. We also checked the Zillow dataset and found that latest date available for Zillow data is 2017-06. Therefore, the common date to be consider for the further analysis would be till 2017-06. Also, the assumption is given that price of today will remain same till next 100 years. Threfore, it is relevant to consider only latest date i.e. 2017-06."
   ]
  },
  {
   "cell_type": "markdown",
   "metadata": {},
   "source": [
    "Now we merge the AirBnB data and Zillow data by inner join and created a new dataframe called df. It has 23 unique values of zipcodes. "
   ]
  },
  {
   "cell_type": "markdown",
   "metadata": {},
   "source": [
    "We then created a new dataframe called df_1 for getting the count of 2 bedroom properties per zipcode. After that we filtered out the zipcodes having less than ten 2 bedroom properies and named it as low_zip and plotted it on a graph.\n",
    "\n",
    "![image_1](less_than_10.png)\n",
    "\n",
    "#### Key Findings:\n",
    "From the graph above, these zipcodes have count of 2 bedrooms less than 10 and hence won't be best zipcodes to invest in. As we can see from the zipcodes that majority of these zipcodes are in Staten Island. So, zipcodes 10303, 10304, 10306, 10309, 10314 are not worth investing in according to the count of 2 bedrooms."
   ]
  },
  {
   "cell_type": "markdown",
   "metadata": {},
   "source": [
    "After that we filtered out the 10 zipcodes having most 2 bedroom properies and named it as top_10 and plotted it on a graph.\n",
    "\n",
    "![image](top_10.png)\n",
    "\n",
    "#### Key Findings:\n",
    "From the graph above, these zipcodes have most number of 2 bedrooms and hence would be the best zipcodes to invest in and that makes them more attractive on AirBnB listings. zipcodes 11215, 10036, 10003 are the top 3 zipcodes with most listings. All these top 10 listings are either in Manhattan or Brooklyn."
   ]
  },
  {
   "cell_type": "markdown",
   "metadata": {},
   "source": [
    "For more analysis, we created a new dataframe dff with columns('price','cost','review_scores_rating','review_scores_value') and plotted a heatmap.\n",
    "\n",
    "![image](cor_plot.png)\n",
    "\n",
    "#### Key Findings:\n",
    "From the correlation plot above, price and cost have a weak positive correlation whereas review_score_value and review_score_rating has the strong positive correlation of 0.75."
   ]
  },
  {
   "cell_type": "markdown",
   "metadata": {},
   "source": [
    "### Occupancy rate:"
   ]
  },
  {
   "cell_type": "markdown",
   "metadata": {},
   "source": [
    "There could be newly built properties for less than an year available for renting which needs to be taken into consideration. Therefore, we create a new dataframe which has all the availability variables present to calculate occupancy rate. \n",
    "\n",
    "\n",
    "For each zipcodes, median availability was taken, normalized by dividing them by their respective number of days, and then average of the normalized values was calculated. Then, this value was subtracted from 1 to find out the occupancy rate. This occupancy rate was then rounded up.\n",
    "\n",
    "We created new data frame dx with the columns necessary for performing breakeven analysis further. "
   ]
  },
  {
   "cell_type": "markdown",
   "metadata": {},
   "source": [
    "Now we plotted the scatterplot of price per zipcode in every neighbourhood_group_cleansed. "
   ]
  },
  {
   "cell_type": "markdown",
   "metadata": {},
   "source": [
    "![image](scatter_1.png)\n",
    "\n",
    "#### Key Findings:\n",
    "From the graph above, we can see that zipcodes 10011, 10013, 10036 are having most of the properties where price of stay per night is high. These zipcodes are located in Manhattan making it an expensive neighbourhood group."
   ]
  },
  {
   "cell_type": "markdown",
   "metadata": {},
   "source": [
    "Now we plotted the scatterplot of purchase cost per zipcode in every neighbourhood_group_cleansed."
   ]
  },
  {
   "cell_type": "markdown",
   "metadata": {},
   "source": [
    "![image](scatter_2.png) \n",
    "\n",
    "#### Key Findings:\n",
    "From the graph above, we can see that zipcodes 10011, 10013, 10014 are having most of the properties where purchasing cost is high. These zipcodes are located in Manhattan making it costlier to buy properties there whereas zipcodes in Staten Island have low purchase cost."
   ]
  },
  {
   "cell_type": "markdown",
   "metadata": {},
   "source": [
    "![image](cor_2.png)\n",
    "\n",
    "#### Key Findings:\n",
    "From the correlation plot above, price and cost have a very strong positive correlation of 0.93. This shows that the real estate company would get costlier rent from the neighbourhood group which has highest purchasing cost. These two variables have a linear relationship. Manhattan and Brooklyn can be the most desirable neighbourhood groups according to this relationship."
   ]
  },
  {
   "cell_type": "markdown",
   "metadata": {},
   "source": [
    "### Breakeven period:\n",
    "Breakeven period is calculated to identify time taken by properties to surpass the purchasing cost by making revenue\n",
    "\n",
    "#### Expected Revenue per Year = Price x Occupancy Rate x Number of Days \n",
    "#### Return of Cost = Revenue per Year/Total Cost\n",
    "#### Breakeven Period = 1/Rate of Return"
   ]
  },
  {
   "cell_type": "markdown",
   "metadata": {},
   "source": [
    "## Self determined occupancy rate"
   ]
  },
  {
   "cell_type": "markdown",
   "metadata": {},
   "source": [
    "### Estimated Revenue for zipcodes per year per property"
   ]
  },
  {
   "cell_type": "markdown",
   "metadata": {},
   "source": [
    "![image](exp_1.png)\n",
    "\n",
    "#### Key Findings:\n",
    "From the above graph, we can see the zipcodes 10011, 10013, 10014 are having highest expected revenue. These zipcodes lies in Manhattan neighbourhood group. These zipcodes with higher value of expected revenue can have good profit and better return on investment but they are also having higher purchasing cost. These 3 zipcodes can be a good choice to invest in based on estimated revenue only. "
   ]
  },
  {
   "cell_type": "markdown",
   "metadata": {},
   "source": [
    "### Return on cost "
   ]
  },
  {
   "cell_type": "markdown",
   "metadata": {},
   "source": [
    "![image](line_1.png)\n",
    "\n",
    "#### Key Findings:\n",
    "The left y-axis depicts return on cost and the right y-axis depicts expected revenue per property per year. This graph would help the real estate company understand when they would have a breakeven on a purchase across different zipcodes. A high return on cost means the zipcode would be safer because the investment would break even sooner than similar 2 bedroom investments in zipcodes having low return on cost. The zipcodes like 11434, 10304, 10309 have highest return on cost because the purchasing cost is lower than other zipcodes. These properties are located in Queens and Staten Island."
   ]
  },
  {
   "cell_type": "markdown",
   "metadata": {},
   "source": [
    "### Breakeven period"
   ]
  },
  {
   "cell_type": "markdown",
   "metadata": {},
   "source": [
    " ![image](BP_1.png)\n",
    " \n",
    "#### Key Findings:\n",
    "From the graph above, we can see that zipcodes 10304, 10309 and other Staten Island properties have low breakeven period. This is because they have low purchasing cost of property. Although, the revenue generated from zipcodes 10011, 10013, 10014 etc is very high , but the breakeven period is also very high because they have high purchasing cost. These zipcodes are located in Manhattan neighbourhood. Looking at the breakeven period, we can say that these zipcodes would not generate more profit."
   ]
  },
  {
   "cell_type": "markdown",
   "metadata": {},
   "source": [
    "## Occupancy rate of 75% for all the properties"
   ]
  },
  {
   "cell_type": "markdown",
   "metadata": {},
   "source": [
    "### Estimated Revenue for zipcodes per year per property"
   ]
  },
  {
   "cell_type": "markdown",
   "metadata": {},
   "source": [
    "![image](exp_2.png)\n",
    "\n",
    "#### Key Findings:\n",
    "From the above graph, we can see the zipcodes 10011, 10013, 10014 are having highest expected revenue. These zipcodes lies in Manhattan neighbourhood group. These zipcodes with higher value of expected revenue can have good profit and better return on investment but they are also having higher purchasing cost. These 3 zipcodes can be a good choice to invest in based on estimated revenue only."
   ]
  },
  {
   "cell_type": "markdown",
   "metadata": {},
   "source": [
    "### Return on Cost "
   ]
  },
  {
   "cell_type": "markdown",
   "metadata": {},
   "source": [
    "![image](line_2.png)\n",
    "\n",
    "#### Key Findings:\n",
    "The left y-axis depicts return on cost and the right y-axis depicts expected revenue per property per year. This graph would help the real estate company understand when they would have a breakeven on a purchase across different zipcodes. A high return on cost means the zipcode would be safer because the investment would break even sooner than similar 2 bedroom investments in zipcodes having low return on cost. The zipcodes like 11434, 10303, 10306 have highest return on cost because the purchasing cost is lower than other zipcodes. These properties are located in Queens and Staten Island. The zipcodes like 10013, 10014, 10011 have low return on cost because the expected revenue and purchasing cost both are high than other zipcodes. These zipcodes are located in Manhattan neighbourhood group."
   ]
  },
  {
   "cell_type": "markdown",
   "metadata": {},
   "source": [
    "### Breakeven period"
   ]
  },
  {
   "cell_type": "markdown",
   "metadata": {},
   "source": [
    "![image](BP_2.png)\n",
    "\n",
    "#### Key Findings:\n",
    "From the graph above, we can see that zipcodes 10304, 10309 and other Staten Island properties have low breakeven period. This is because they have low purchasing cost of property and also occupancy rate is considered as 75%. Although, the revenue generated from zipcodes 10011, 10013, 10014 etc is very high , but the breakeven period is also very high because they have high purchasing cost. These zipcodes are located in Manhattan neighbourhood. Looking at the breakeven period, we can say that these zipcodes would not generate more profit."
   ]
  },
  {
   "cell_type": "markdown",
   "metadata": {},
   "source": [
    "### Key findings of overall analysis:"
   ]
  },
  {
   "cell_type": "markdown",
   "metadata": {},
   "source": [
    "Now we have the results from both the scenarios i.e. self calculated occupancy rates and given occupancy rates. If both the results are compared, it shows some disparities in the analysis. When considered self calculated occupancy rates, zipcode 11234 from Brooklyn is shown to be the zipcode with longest breakeven period which is because of the fact that it has low return on cost which in turn comes from very low occupancy rate for this zipcode. This differ from the fact that Brooklyn is one of the most rented boroughs. \n",
    "\n",
    "We have calculated the occupancy rate depending upon availability of the property for renting. But in real there could be so many exogenous factors affecting occupancy rate. This leads to the disparity. So for the purpose of this analysis and visualizations, we'll use the given common occupancy rate of 75%."
   ]
  },
  {
   "cell_type": "markdown",
   "metadata": {},
   "source": [
    "### Future Steps to deliver a better product to real estate company:\n",
    "\n",
    "1. We can perform sentimental analysis for reviews, as there are so many variables given in the AirBnB data by creating a dictonary of words. \n",
    "\n",
    "2. As given in the assumptions that cost today will be same after 100 years, which might not be practially possible in the future, so we can built a forecasting model to predict increase or decrease in the cost as we have significant amount of data.\n",
    "\n",
    "3. We can use other socio economic variables like GDP, population and some of the weather variables to calculate occupancy rate of the properties.\n",
    "\n",
    "4. Breakeven period can be calculated for long and short stays.\n",
    "\n",
    "5. The square footage of each property could be taken into account while calculating the cost and revenue.\n",
    "\n",
    "6. Further research can be done on to derive which factors impact bookings via AirBnb and by what weightage do they and hence a weighted model could be developed to get exact overall rating.\n",
    "\n",
    "7. Model for occupancy could be developed based on preference of zipcode locations."
   ]
  }
 ],
 "metadata": {
  "kernelspec": {
   "display_name": "Python 3",
   "language": "python",
   "name": "python3"
  },
  "language_info": {
   "codemirror_mode": {
    "name": "ipython",
    "version": 3
   },
   "file_extension": ".py",
   "mimetype": "text/x-python",
   "name": "python",
   "nbconvert_exporter": "python",
   "pygments_lexer": "ipython3",
   "version": "3.8.5"
  }
 },
 "nbformat": 4,
 "nbformat_minor": 4
}
