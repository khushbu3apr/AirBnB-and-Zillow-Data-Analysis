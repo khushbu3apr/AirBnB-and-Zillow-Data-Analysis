{
 "cells": [
  {
   "cell_type": "markdown",
   "metadata": {},
   "source": [
    "<font size=\"6\"><h3 align=\"center\">Visualizations and Key Insights</h3></font>"
   ]
  },
  {
   "cell_type": "markdown",
   "metadata": {},
   "source": [
    "## Problem Statement:"
   ]
  },
  {
   "cell_type": "markdown",
   "metadata": {},
   "source": [
    "We are asked to consult for a real estate company that has a niche in purchasing properties to rent out short-term as part of their business model specifically within New York City. The real estate company has already concluded that two bedroom properties are the most profitable; however, they do not know which zip codes are the best to invest in."
   ]
  },
  {
   "cell_type": "markdown",
   "metadata": {},
   "source": [
    "## Goal:"
   ]
  },
  {
   "cell_type": "markdown",
   "metadata": {},
   "source": [
    "To build out a data product and provide our conclusions to help real estate company understand which zip codes would generate the most profit on short term rentals within New York City."
   ]
  },
  {
   "cell_type": "markdown",
   "metadata": {},
   "source": [
    "## Datasets:"
   ]
  },
  {
   "cell_type": "markdown",
   "metadata": {},
   "source": [
    "We looked at two publicly available datasets, both are in CSV format:\n",
    "1. Cost Data (Zillow Data) - It provides an estimate of value for two-bedroom properties. This data was included in the email from Capital One recruiting.\n",
    "\n",
    "2. Revenue Data (AirBnB Data) - This data provides the attributes of each room/apartment present for renting. AirBnB acts as the medium through which the investor plans to lease out their investment property. This data was downloaded from the link: http://data.insideairbnb.com/united-states/ny/new-york-city/2019-07-08/data/listings.csv.gz"
   ]
  },
  {
   "cell_type": "markdown",
   "metadata": {},
   "source": [
    "## Following are the visualizaions which helped us to mine some key insights:"
   ]
  },
  {
   "cell_type": "markdown",
   "metadata": {},
   "source": [
    "### 1. Distribution of room types\n",
    "\n",
    "#### Information: \n",
    "This graph shows the distribution of room types for all the zipcodes.\n",
    "     \n",
    "   ![image](download.png)\n",
    "     \n",
    "#### Key Findings: \n",
    "In the graph above,blue lines shows the Entire home/apt and orange line shows the private rooms. we can see that number of entire home/apt rented are way more than private room rented in that particular zipcode."
   ]
  },
  {
   "cell_type": "markdown",
   "metadata": {},
   "source": [
    "### 2. Zipcodes with the count of 2 bedrooms less than 10\n",
    "\n",
    "#### Information: \n",
    "This graph shows the zipcodes with the count of 2 bedrooms less than 10. \n",
    "     \n",
    "   ![image_1](less_than_10.png)\n",
    "     \n",
    "#### Key Findings: \n",
    "From the graph above, these zipcodes have count of 2 bedrooms less than 10 and hence won't be best zipcodes to invest in. As we can see from the zipcodes that majority of these zipcodes are in Staten Island. So, zipcodes 10303, 10304, 10306, 10309, 10314 are not worth investing in according to the count of 2 bedrooms. "
   ]
  },
  {
   "cell_type": "markdown",
   "metadata": {},
   "source": [
    "### 3. Top 10 zipcodes with most number of 2 bedrooms\n",
    "\n",
    "#### Information: \n",
    "This graph shows the top 10 zipcodes which have.\n",
    "     \n",
    "   ![image](top_10.png)\n",
    "     \n",
    "#### Key Findings: \n",
    "From the graph above, these zipcodes have most number of 2 bedrooms and hence would be the best zipcodes to invest in and that makes them more attractive on AirBnB listings. zipcodes 11215, 10036, 10003 are the top 3 zipcodes with most listings. All these top 10 listings are either in Manhattan or Brooklyn."
   ]
  },
  {
   "cell_type": "markdown",
   "metadata": {},
   "source": [
    "### 4. Correlation plot\n",
    "\n",
    "#### Information:\n",
    "This heatmap shows the correlation betweeen variables of AirBnB and Zillow data. \n",
    "     \n",
    "   ![image](cor_plot.png)\n",
    "     \n",
    "#### Key Findings:\n",
    "From the correlation plot above, price and cost have a weak positive correlation whereas review_score_value and review_score_rating has the strong positive correlation of 0.75."
   ]
  },
  {
   "cell_type": "markdown",
   "metadata": {},
   "source": [
    "### 5. Price for zipcodes per night\n",
    "\n",
    "#### Information: \n",
    "This graph shows the price for renting the apartment per night for different zipcodes across all the neighbourhood groups. \n",
    "     \n",
    "   ![image](scatter_1.png)\n",
    "     \n",
    "#### Key Findings: \n",
    "From the graph above, we can see that zipcodes 10011, 10013, 10036 are having most of the properties where price of stay per night is high. These zipcodes are located in Manhattan making it an expensive neighbourhood group."
   ]
  },
  {
   "cell_type": "markdown",
   "metadata": {},
   "source": [
    "### 6. Purchase cost of properties for zipcodes\n",
    "\n",
    "#### Information: \n",
    "This graph shows the cost for puchasing properties for different zipcodes across all the neighbourhood groups.\n",
    "     \n",
    "   ![image](scatter_2.png) \n",
    "     \n",
    "#### Key Findings: \n",
    "From the graph above, we can see that zipcodes 10011, 10013, 10014 are having most of the properties where purchasing cost is high. These zipcodes are located in Manhattan making it costlier to buy properties there whereas zipcodes in Staten Island have low purchase cost."
   ]
  },
  {
   "cell_type": "markdown",
   "metadata": {},
   "source": [
    "### 7. Correlation plot \n",
    "\n",
    "#### Information:\n",
    "This heatmap is mainly to show the correlation betweeen Price and Cost.  \n",
    "\n",
    " ![image](cor_2.png)\n",
    " \n",
    "#### Key Findings:\n",
    "From the correlation plot above, price and cost have a very strong positive correlation of 0.93. This shows that the real estate company would get costlier rent from the neighbourhood group which has highest purchasing cost. These two variables have a linear relationship. Manhattan and Brooklyn can be the most desirable neighbourhood groups according to this relationship. "
   ]
  },
  {
   "cell_type": "markdown",
   "metadata": {},
   "source": [
    "##### We came to an conclusion as mentioned in the documentation part of this data challenge that, as occupancy rate can be affected by any other exogenous factors besides availability of the properties, we will finally consider the given occupancy rate of 75% for all the properties. The following visualizations are only shown for the occupancy rate of 75% for all the properties."
   ]
  },
  {
   "cell_type": "markdown",
   "metadata": {},
   "source": [
    "### 8. Estimated Revenue for zipcodes per year per property\n",
    "\n",
    "#### Information: \n",
    "This graph shows the estimated revenue for zipcodes per year per property. As mentioned above expected revenue is              calculated by taking occupancy rate of 75%. \n",
    "     \n",
    "Expected Revenue= price * no of days * occupancy rate\n",
    "     \n",
    "   ![image](exp_2.png)\n",
    "     \n",
    "#### Key Findings: \n",
    "From the above graph, we can see the zipcodes 10011, 10013, 10014 are having highest expected revenue. These zipcodes lies in Manhattan neighbourhood group. These zipcodes with higher value of expected revenue can have good profit and better return on investment but they are also having higher purchasing cost. These 3 zipcodes can be a good choice to invest in based on estimated revenue only."
   ]
  },
  {
   "cell_type": "markdown",
   "metadata": {},
   "source": [
    "### 9. Return on cost\n",
    "\n",
    "#### Information: \n",
    "This graph shows the Return on cost and expected revenue per property per year for zipcodes.\n",
    "\n",
    "Return on Cost = Expected Revenue/Cost\n",
    "     \n",
    "   ![image](line_2.png)\n",
    "     \n",
    "#### Key Findings: \n",
    "The left y-axis depicts return on cost and the right y-axis depicts expected revenue per property per year. This graph would help the real estate company understand when they would have a breakeven on a purchase across different zipcodes.  A high return on cost means the zipcode would be safer because the investment would break even sooner than similar 2 bedroom investments in zipcodes having low return on cost. The zipcodes like 11434, 10303, 10306 have highest return on cost because the purchasing cost is lower than other zipcodes. These properties are located in Queens and Staten Island. The zipcodes like 10013, 10014, 10011 have low return on cost because the expected revenue and purchasing cost both are high than other zipcodes. These zipcodes are located in Manhattan neighbourhood group. "
   ]
  },
  {
   "cell_type": "markdown",
   "metadata": {},
   "source": [
    "### 10. Breakeven period \n",
    "\n",
    "#### Information:\n",
    "This graph shows breakeven period. Breakeven period is calculated to identify time taken by properties to surpass the purchasing cost by making revenue.\n",
    "\n",
    "Breakeven Period = 1/Return on cost\n",
    "\n",
    "   ![image](BP_2.png)\n",
    "        \n",
    "#### Key Findings: \n",
    "From the graph above, we can see that zipcodes 10304, 10309 and other Staten Island properties have low breakeven period. This is because they have low purchasing cost of property and also occupancy rate is considered as 75%. Although, the revenue generated from zipcodes 10011, 10013, 10014 etc is very high , but the breakeven period is also very high because they have high purchasing cost. These zipcodes are located in Manhattan neighbourhood. Looking at the breakeven period, we can say that these zipcodes would not generate more profit. "
   ]
  },
  {
   "cell_type": "markdown",
   "metadata": {},
   "source": [
    "## Recommendations: \n",
    "##### Based on the above analysis, we recommend our solutions to real estate company as follows-\n",
    "\n",
    "1. Zipcode 10036 in Manhattan neighbourhood has high expected revenue and high return on cost. This makes it the best zipcode to purchase 2 bedroom properties as it will break even soonest.\n",
    "\n",
    "2. Zipcode 10025 in Manhattan is also close to 10036. The expected revenue is among the middle of the 23 unique zipcodes. But it has the least average purchase cost for 2 bedroom properties and has a decent return on cost which makes it the second best zipcode to invest in.\n",
    "\n",
    "3. Zipcode 10022 in Manhattan is another good deal to purchase 2 bedroom properties. It has high expected revenue with decent return on cost.\n",
    "\n",
    "4. Zipcode 11215 in Brooklyn is also a very good location to purchase 2 bedroom properties. It is one of the cheapest options. Even though the average revenue is not as high as some of the other zipcodes have, the cheap purchase cost suffies the disadvantage of earning less expected revenue and makes it a great location for investing.\n",
    "\n",
    "5. Zipcode 11231 in Brooklyn is close to zipcode 11215 as the average cost and the average expected revenue per year obtained from a property are close to each other.\n",
    "\n",
    "##### So these zipcodes will be considered on level one for profitable investing\n",
    "\n",
    "6. Zipcodes 10303, 10304, 10306, 11434 are the properties which have faster breakeven period and would start giving profits to the company soonest. As these properties are located in Staten Island and Queens where purchasing cost is less, justifies the low risk investment.\n",
    "\n",
    "##### So these zipcodes will be considered on level two for profitable investing\n",
    "\n",
    "7. Zipcodes 10013, 10128, 10003, 10028, 10014 would make for bad investment as their purchasing cost is high compared to return on cost. This would be profitable in long term because they have long breakeven periods, but we are asked for short term. \n",
    "\n",
    "##### So these zipcodes will be considered on level  three for profitable investing"
   ]
  },
  {
   "cell_type": "markdown",
   "metadata": {},
   "source": [
    "## Future Steps to deliver a better product to real estate company:\n",
    "\n",
    "1. We can perform sentimental analysis for reviews, as there are so many variables given in the AirBnB data by creating a dictonary of words. \n",
    "\n",
    "2. As given in the assumptions that cost today will be same after 100 years, which might not be practially possible in the future, so we can built a forecasting model to predict increase or decrease in the cost as we have significant amount of data.\n",
    "\n",
    "3. We can use other socio economic variables like GDP, population and some of the weather variables to calculate occupancy rate of the properties.\n",
    "\n",
    "4. Breakeven period can be calculated for long and short stays.\n",
    "\n",
    "5. The square footage of each property could be taken into account while calculating the cost and revenue.\n",
    "\n",
    "6. Further research can be done on to derive which factors impact bookings via AirBnb and by what weightage do they and hence a weighted model could be developed to get exact overall rating.\n",
    "\n",
    "7. Model for occupancy could be developed based on preference of zipcode locations."
   ]
  }
 ],
 "metadata": {
  "kernelspec": {
   "display_name": "Python 3",
   "language": "python",
   "name": "python3"
  },
  "language_info": {
   "codemirror_mode": {
    "name": "ipython",
    "version": 3
   },
   "file_extension": ".py",
   "mimetype": "text/x-python",
   "name": "python",
   "nbconvert_exporter": "python",
   "pygments_lexer": "ipython3",
   "version": "3.8.5"
  }
 },
 "nbformat": 4,
 "nbformat_minor": 4
}
